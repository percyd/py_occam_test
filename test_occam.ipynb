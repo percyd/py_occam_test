{
 "cells": [
  {
   "cell_type": "code",
   "execution_count": 2,
   "id": "6b57076e",
   "metadata": {},
   "outputs": [
    {
     "ename": "ModuleNotFoundError",
     "evalue": "No module named 'py_occam.core'",
     "output_type": "error",
     "traceback": [
      "\u001b[1;31m---------------------------------------------------------------------------\u001b[0m",
      "\u001b[1;31mModuleNotFoundError\u001b[0m                       Traceback (most recent call last)",
      "Cell \u001b[1;32mIn[2], line 9\u001b[0m\n\u001b[0;32m      6\u001b[0m \u001b[38;5;28;01mfrom\u001b[39;00m \u001b[38;5;21;01mpathlib\u001b[39;00m \u001b[38;5;28;01mimport\u001b[39;00m Path\n\u001b[0;32m      8\u001b[0m \u001b[38;5;66;03m# Import our OCCAM code\u001b[39;00m\n\u001b[1;32m----> 9\u001b[0m \u001b[38;5;28;01mfrom\u001b[39;00m \u001b[38;5;21;01mpy_occam\u001b[39;00m\u001b[38;5;21;01m.\u001b[39;00m\u001b[38;5;21;01msearch\u001b[39;00m \u001b[38;5;28;01mimport\u001b[39;00m Search\n\u001b[0;32m     10\u001b[0m \u001b[38;5;28;01mfrom\u001b[39;00m \u001b[38;5;21;01mpy_occam\u001b[39;00m\u001b[38;5;21;01m.\u001b[39;00m\u001b[38;5;21;01mfit\u001b[39;00m \u001b[38;5;28;01mimport\u001b[39;00m Fit\n\u001b[0;32m     12\u001b[0m \u001b[38;5;66;03m# Load test data\u001b[39;00m\n",
      "File \u001b[1;32m~\\Documents\\GitHub\\py-occam\\py_occam\\search.py:11\u001b[0m\n\u001b[0;32m      8\u001b[0m \u001b[38;5;28;01mfrom\u001b[39;00m \u001b[38;5;21;01mpathlib\u001b[39;00m \u001b[38;5;28;01mimport\u001b[39;00m Path\n\u001b[0;32m      9\u001b[0m \u001b[38;5;28;01mimport\u001b[39;00m \u001b[38;5;21;01myaml\u001b[39;00m\n\u001b[1;32m---> 11\u001b[0m \u001b[38;5;28;01mfrom\u001b[39;00m \u001b[38;5;21;01m.\u001b[39;00m\u001b[38;5;21;01mcore\u001b[39;00m \u001b[38;5;28;01mimport\u001b[39;00m Model, StateSpace, VariableList\n\u001b[0;32m     13\u001b[0m \u001b[38;5;129m@dataclass\u001b[39m\n\u001b[0;32m     14\u001b[0m \u001b[38;5;28;01mclass\u001b[39;00m \u001b[38;5;21;01mSearch\u001b[39;00m:\n\u001b[0;32m     15\u001b[0m \u001b[38;5;250m    \u001b[39m\u001b[38;5;124;03m\"\"\"Main search implementation matching VBMManager.cpp behavior\"\"\"\u001b[39;00m\n",
      "\u001b[1;31mModuleNotFoundError\u001b[0m: No module named 'py_occam.core'"
     ]
    }
   ],
   "source": [
    "# test_occam.ipynb\n",
    "\n",
    "# Import required libraries\n",
    "import pandas as pd\n",
    "import numpy as np\n",
    "from pathlib import Path\n",
    "\n",
    "# Import our OCCAM code\n",
    "from py_occam.search import Search\n",
    "from py_occam.fit import Fit\n",
    "\n",
    "# Load test data\n",
    "data = pd.read_csv('dementia05ApEdC_no_occam_header.tsv', sep='\\t')\n",
    "data = data[['APOE', 'EDU', 'C', 'CaseCon']]  # Keep only variables we want\n",
    "\n",
    "# Create search instance\n",
    "search = Search.from_yaml(data, 'dementia05ApEdC_no_occam_header.yml')\n",
    "\n",
    "# Run search with same parameters as C++ example\n",
    "results = search.run(width=3, levels=7)\n",
    "\n",
    "# Get best model by BIC from search results\n",
    "best_model = max(results, key=lambda m: m.statistics['bic'])\n",
    "print(f\"\\nBest model by BIC: {best_model.get_name()}\")\n",
    "\n",
    "# Run fit on best model\n",
    "fit = Fit(data=data, \n",
    "         varlist=search.varlist, \n",
    "         model_name=best_model.get_name())\n",
    "\n",
    "fit_results = fit.run()"
   ]
  },
  {
   "cell_type": "code",
   "execution_count": null,
   "id": "22106286",
   "metadata": {},
   "outputs": [],
   "source": []
  }
 ],
 "metadata": {
  "kernelspec": {
   "display_name": "Python 3 (ipykernel)",
   "language": "python",
   "name": "python3"
  },
  "language_info": {
   "codemirror_mode": {
    "name": "ipython",
    "version": 3
   },
   "file_extension": ".py",
   "mimetype": "text/x-python",
   "name": "python",
   "nbconvert_exporter": "python",
   "pygments_lexer": "ipython3",
   "version": "3.11.5"
  }
 },
 "nbformat": 4,
 "nbformat_minor": 5
}
